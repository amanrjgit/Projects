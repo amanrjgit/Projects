{
  "nbformat": 4,
  "nbformat_minor": 0,
  "metadata": {
    "colab": {
      "provenance": []
    },
    "kernelspec": {
      "name": "python3",
      "display_name": "Python 3"
    },
    "language_info": {
      "name": "python"
    }
  },
  "cells": [
    {
      "cell_type": "code",
      "execution_count": 27,
      "metadata": {
        "id": "AX8lYlW9DKmv"
      },
      "outputs": [],
      "source": [
        "import pandas as pd\n",
        "import numpy as np\n",
        "import json\n",
        "from sklearn.metrics import mean_squared_error, r2_score\n",
        "from sklearn.model_selection import train_test_split\n",
        "from sklearn.ensemble import RandomForestClassifier, RandomForestRegressor, GradientBoostingClassifier, GradientBoostingRegressor, ExtraTreesClassifier, ExtraTreesRegressor\n",
        "from sklearn.linear_model import LinearRegression, LogisticRegression, Ridge, Lasso, ElasticNet, SGDClassifier, SGDRegressor\n",
        "from sklearn.tree import DecisionTreeClassifier, DecisionTreeRegressor\n",
        "from sklearn.svm import SVC, SVR\n",
        "from sklearn.neighbors import KNeighborsClassifier, KNeighborsRegressor\n",
        "from sklearn.neural_network import MLPClassifier, MLPRegressor\n",
        "from sklearn.metrics import accuracy_score\n",
        "from sklearn.model_selection import GridSearchCV\n",
        "import warnings\n",
        "warnings.filterwarnings(\"ignore\")"
      ]
    },
    {
      "cell_type": "markdown",
      "source": [
        "# Different json files for different **models** bold text"
      ],
      "metadata": {
        "id": "Qqi74ophE3WA"
      }
    },
    {
      "cell_type": "code",
      "source": [
        "f = open(\"/content/drive/MyDrive/Random/algoparams_from_ui.json\")\n",
        "og_json = json.load(f)"
      ],
      "metadata": {
        "id": "OWosxmGIDX7w"
      },
      "execution_count": 3,
      "outputs": []
    },
    {
      "cell_type": "code",
      "source": [
        "f = open(\"/content/drive/MyDrive/Random/knn_algo.json\")\n",
        "knn_json = json.load(f)"
      ],
      "metadata": {
        "id": "p0N1VT69Do8K"
      },
      "execution_count": 23,
      "outputs": []
    },
    {
      "cell_type": "code",
      "source": [
        "f = open(\"/content/drive/MyDrive/Random/Elastic_algo.json\")\n",
        "elastic_json = json.load(f)"
      ],
      "metadata": {
        "id": "FBORQw9ID1GW"
      },
      "execution_count": 5,
      "outputs": []
    },
    {
      "cell_type": "code",
      "source": [
        "f = open(\"/content/drive/MyDrive/Random/GBT_algo.json\")\n",
        "gbt_json = json.load(f)"
      ],
      "metadata": {
        "id": "_ViWM6a4D-wn"
      },
      "execution_count": 6,
      "outputs": []
    },
    {
      "cell_type": "code",
      "source": [
        "f = open(\"/content/drive/MyDrive/Random/Neural_algo.json\")\n",
        "neural_json = json.load(f)"
      ],
      "metadata": {
        "id": "YOi9yoOaENiG"
      },
      "execution_count": 42,
      "outputs": []
    },
    {
      "cell_type": "code",
      "source": [
        "true = True\n",
        "false = False"
      ],
      "metadata": {
        "id": "r4qHwG3ZEa0G"
      },
      "execution_count": 9,
      "outputs": []
    },
    {
      "cell_type": "markdown",
      "source": [
        "# Main function to parse json and create model"
      ],
      "metadata": {
        "id": "kr2IpMNZFFS4"
      }
    },
    {
      "cell_type": "code",
      "source": [
        "def create_model(data, df):\n",
        "    root = data[\"design_state_data\"]\n",
        "    target = root[\"target\"][\"target\"]\n",
        "    if root[\"target\"][\"prediction_type\"]==\"Regression\":\n",
        "        scoring = \"neg_mean_squared_error\"\n",
        "    elif root[\"target\"][\"prediction_type\"]==\"Classification\":\n",
        "        scoring = \"accuracy\"\n",
        "    else:\n",
        "        raise AttributeError(\"Wrong Prediction Type\")\n",
        "    dependent = []\n",
        "    maps = {}\n",
        "    param_grid = {}\n",
        "    for col in root[\"feature_handling\"].keys():\n",
        "        if root[\"feature_handling\"][col][\"feature_variable_type\"]==\"text\" and root[\"feature_handling\"][col][\"is_selected\"]==True:\n",
        "            temp = {}\n",
        "            for ind,val in enumerate(df[col].unique()):\n",
        "                temp[val]=ind\n",
        "            maps[col]=(temp)\n",
        "            df[col] = df[col].map(temp)\n",
        "    for i in df.columns:\n",
        "        if i != target and root[\"feature_handling\"][col][\"is_selected\"]==True:\n",
        "            dependent.append(i)\n",
        "    print(f\"Dependent Variables: {dependent}\")\n",
        "    print(\"-------------------------------------\")\n",
        "    print((f\"Target Variable: {target}\"))\n",
        "    x_train, x_test, y_train, y_test = train_test_split(df[dependent],df[target],test_size=0.2)\n",
        "    algo = []\n",
        "    for i in root[\"algorithms\"]:\n",
        "        if root[\"algorithms\"][i][\"is_selected\"]==True:\n",
        "            algo.append(i)\n",
        "    for algo, details in root['algorithms'].items():\n",
        "        if details['is_selected']:\n",
        "            if details.get('parallelism')==None or details.get('parallelism')==0:\n",
        "                n_jobs=-1\n",
        "            else:\n",
        "                n_jobs=details.get('parallelism')\n",
        "            if algo == 'RandomForestClassifier' or algo == 'RandomForestRegressor':\n",
        "                if algo == \"RandomForestClassifier\":\n",
        "                    model = RandomForestClassifier(n_jobs=n_jobs)\n",
        "                else:\n",
        "                    model = RandomForestRegressor(n_jobs=n_jobs)\n",
        "                param_grid.update({\n",
        "                    'n_estimators': [details['min_trees'], details['max_trees']],\n",
        "                    'max_depth': range(details['min_depth'], details['max_depth'] + 1),\n",
        "                    'min_samples_split': [2],\n",
        "                    'min_samples_leaf': range(details['min_samples_per_leaf_min_value'], details['min_samples_per_leaf_max_value'] + 1)\n",
        "                })\n",
        "            elif algo == \"GBTClassifier\" or algo == \"GBTRegressor\":\n",
        "                if algo == \"GBTClassifier\":\n",
        "                    model = GradientBoostingClassifier()\n",
        "                else:\n",
        "                    model = GradientBoostingRegressor()\n",
        "                param_grid.update({\n",
        "                    'n_estimators': details['num_of_BoostingStages'],\n",
        "                    'subsample': [details['min_subsample'], details['max_subsample']],\n",
        "                    'min_samples_split': [2],\n",
        "                    'min_samples_leaf': [details['min_subsample'], details['max_subsample']],\n",
        "                    'max_depth': range(details['min_depth'], details['max_depth'] + 1),\n",
        "                    'learning_rate': [0.1],  # Set to a value if needed\n",
        "                    'min_impurity_decrease': [0],  # Set to a value if needed\n",
        "                })\n",
        "            elif algo==\"LinearRegression\":\n",
        "                model = LinearRegression()\n",
        "                param_grid.update({\n",
        "                    'fit_intercept': [True, False],\n",
        "                    'normalize': [True, False],\n",
        "                })\n",
        "            elif algo==\"LogisticRegression\":\n",
        "                model = LogisticRegression()\n",
        "                param_grid.update({\n",
        "                    'penalty': ['l1', 'l2'],\n",
        "                    'dual': [False],  # Set to a value if needed\n",
        "                    'fit_intercept': [True, False],\n",
        "                    'intercept_scaling': [1],  # Set to a value if needed\n",
        "                    'class_weight': [None, 'balanced'],\n",
        "                    'solver': ['liblinear', 'saga'],\n",
        "                    'max_iter': details['max_iter'],\n",
        "                    'C': [details['min_regparam'], details['max_regparam']]\n",
        "                })\n",
        "\n",
        "            elif algo==\"RidgeRegression\":\n",
        "                model = Ridge()\n",
        "                param_grid.update({\n",
        "                    'alpha': [details['min_regparam'], details['max_regparam']],\n",
        "                    'fit_intercept': [True, False],\n",
        "                    'normalize': [True, False],\n",
        "                    'solver': ['auto', 'svd', 'cholesky', 'lsqr', 'sparse_cg', 'sag', 'saga'],\n",
        "                    'max_iter': [details['min_iter'], details['max_iter']]\n",
        "                })\n",
        "\n",
        "            elif algo==\"LassoRegression\":\n",
        "                model = Lasso()\n",
        "                param_grid.update({\n",
        "                    'alpha': [details['min_regparam'], details['max_regparam']],\n",
        "                    'fit_intercept': [True, False],\n",
        "                    'normalize': [True, False],\n",
        "                    'precompute': [True, False],\n",
        "                    'positive': [False],  # Set to a value if needed\n",
        "                    'selection': ['cyclic', 'random'],\n",
        "                    'max_iter': [details['min_iter'], details['max_iter']]\n",
        "                })\n",
        "\n",
        "            elif algo==\"ElasticNetRegression\":\n",
        "                model = ElasticNet()\n",
        "                param_grid.update({\n",
        "                    'alpha': [details['min_regparam'], details['max_regparam']],\n",
        "                    'l1_ratio': [details['min_elasticnet'], details['max_elasticnet']],\n",
        "                    'fit_intercept': [True, False],\n",
        "                    'precompute': [True, False],\n",
        "                    'positive': [False],  # Set to a value if needed\n",
        "                    'selection': ['cyclic', 'random'],\n",
        "                    'max_iter': [details['min_iter'], details['max_iter']],\n",
        "                    'tol': [1e-4],  # Set to a value if needed\n",
        "                })\n",
        "            elif algo==\"xg_boost\":\n",
        "                model = xgb.XGBClassifier() if details['use_gradient_boosted_tree'] else xgb.XGBRegressor()\n",
        "                param_grid.update({\n",
        "                    'max_depth': details['max_depth_of_tree'],\n",
        "                    'learning_rate': details['learningRate'],\n",
        "                    'reg_alpha': details['l1_regularization'],\n",
        "                    'reg_lambda': details['l2_regularization'],\n",
        "                    'gamma': details['gamma'],\n",
        "                    'min_child_weight': details['min_child_weight'],\n",
        "                    'subsample': details['sub_sample'],\n",
        "                    'colsample_bytree': details['col_sample_by_tree'],\n",
        "                    'tree_method': details['tree_method'],\n",
        "                    'n_estimators': details['max_num_of_trees'],\n",
        "                })\n",
        "            elif algo==\"DecisionTreeRegressor\" or algo==\"DecisionTreeClassifier\":\n",
        "                if algo==\"DecisionTreeRegressor\":\n",
        "                    model = DecisionTreeRegressor()\n",
        "                else:\n",
        "                    model = DecisionTreeClassifier()\n",
        "                param_grid.update({\n",
        "                    'max_depth': details['max_depth'],\n",
        "                    'min_samples_split': [2],  # You can change this as needed\n",
        "                    'min_samples_leaf': details['min_samples_per_leaf'],\n",
        "                    'criterion': ['gini' if details['use_gini'] else 'entropy'],\n",
        "                    'splitter': ['best'] if details['use_best'] else ['random'],\n",
        "                })\n",
        "            elif algo==\"SVM\":\n",
        "                model = SVC()\n",
        "                param_grid.update({\n",
        "                    'C': details['c_value'],\n",
        "                    'kernel': ['linear', 'rbf', 'poly', 'sigmoid'],\n",
        "                    'gamma': ['scale', 'auto'] if details['auto'] else details['custom_gamma_values'],\n",
        "                    'shrinking': [True],\n",
        "                    'tol': [details['tolerance']],\n",
        "                    'max_iter': [details['max_iterations']],\n",
        "                })\n",
        "            elif algo==\"SGD\":\n",
        "                model = SGDClassifier(loss='log' if details['use_logistics'] else 'hinge')\n",
        "                param_grid.update({\n",
        "                    'alpha': details['alpha_value'],\n",
        "                    'penalty': ['l1', 'l2', 'elasticnet'],\n",
        "                    'l1_ratio': details['alpha_value'] if details['use_elastic_net_regularization'] else [0],\n",
        "                    'max_iter': details['max_iterations'] if details['max_iterations'] else [1000],\n",
        "                    'tol': [details['tolerance']],\n",
        "                })\n",
        "            elif algo==\"KNN\":\n",
        "                model = KNeighborsClassifier(weights='distance' if details['distance_weighting'] else 'uniform',\n",
        "                                 algorithm=\"auto\",\n",
        "                                 p=details['p_value'])\n",
        "                param_grid.update({\n",
        "                    'n_neighbors': details['k_value'],\n",
        "                })\n",
        "\n",
        "            elif algo==\"extra_random_trees\":\n",
        "                model = ExtraTreesClassifier(n_jobs=n_jobs)\n",
        "                param_grid.update({\n",
        "                    'n_estimators': details['num_of_trees'],\n",
        "                    'max_depth': details['max_depth'],\n",
        "                    'min_samples_leaf': details['min_samples_per_leaf'],\n",
        "                })\n",
        "            elif algo==\"neural_network\":\n",
        "                model = MLPClassifier()\n",
        "                param_grid.update({\n",
        "                    'hidden_layer_sizes': details['hidden_layer_sizes'],\n",
        "                    'activation': [details['activation']],\n",
        "                    'alpha': [details['alpha_value']],\n",
        "                    'max_iter': [details['max_iterations']],\n",
        "                    'tol': [details['convergence_tolerance']],\n",
        "                    'early_stopping': [details['early_stopping']],\n",
        "                    'solver': [details['solver']],\n",
        "                    'shuffle': [details['shuffle_data']],\n",
        "                    'learning_rate_init': [details['initial_learning_rate']],\n",
        "                    'batch_size': ['auto' if details['automatic_batching'] else None],\n",
        "                    'beta_1': [details['beta_1']],\n",
        "                    'beta_2': [details['beta_2']],\n",
        "                    'epsilon': [details['epsilon']],\n",
        "                    'power_t': [details['power_t']],\n",
        "                    'momentum': [details['momentum']],\n",
        "                    'nesterovs_momentum': [details['use_nesterov_momentum']],\n",
        "                })\n",
        "\n",
        "\n",
        "            else:\n",
        "                raise AttributeError\n",
        "\n",
        "    grid_search = GridSearchCV(\n",
        "        estimator=model,\n",
        "        param_grid=param_grid,\n",
        "        scoring=scoring,  # You can use a different scoring metric\n",
        "        cv=5,  # Number of folds for cross-validation\n",
        "        n_jobs=-1 , # Use all available CPU cores for parallel processing\n",
        "        verbose=2\n",
        "    )\n",
        "    print(f\"Original parameter for Grid Search: {param_grid}\")\n",
        "    print(\"-------------------------------------\")\n",
        "    print(\"  \")\n",
        "    grid_search.fit(x_train, y_train)\n",
        "    best_params = grid_search.best_estimator_\n",
        "    print(f\"Best parameters are: {best_params}\")\n",
        "    print(\"-------------------------------------\")\n",
        "    print(\"  \")\n",
        "    best_model = model.set_params(**grid_search.best_params_)  # Set best parameters\n",
        "    best_model.fit(x_train, y_train)\n",
        "    from sklearn.metrics import accuracy_score\n",
        "    y_pred = best_model.predict(x_test)  # Replace best_model with your trained model\n",
        "\n",
        "    # Assuming y_test is the true target values for the test set\n",
        "    try:\n",
        "        accuracy = accuracy_score(y_test, y_pred)\n",
        "        print(\"Accuracy:\", accuracy)\n",
        "    except:\n",
        "        mse = mean_squared_error(y_test, y_pred)\n",
        "        r2 = r2_score(y_test, y_pred)\n",
        "        print(\"Mean Squared Error:\", mse)\n",
        "        print(\"-------------------------------------\")\n",
        "        print(\"  \")\n",
        "        print(\"R-squared:\", r2)\n",
        "    return best_model"
      ],
      "metadata": {
        "id": "dh89bfwREiy_"
      },
      "execution_count": 44,
      "outputs": []
    },
    {
      "cell_type": "code",
      "source": [],
      "metadata": {
        "id": "yuJ7vCddEuMP"
      },
      "execution_count": null,
      "outputs": []
    },
    {
      "cell_type": "markdown",
      "source": [
        "Data loading"
      ],
      "metadata": {
        "id": "8YGqjrafFOZX"
      }
    },
    {
      "cell_type": "code",
      "source": [
        "df = pd.read_csv(\"/content/drive/MyDrive/Random/iris.csv\")"
      ],
      "metadata": {
        "id": "KhfmCo6oFQRx"
      },
      "execution_count": 11,
      "outputs": []
    },
    {
      "cell_type": "markdown",
      "source": [
        "## Random Forest Regressor on original json"
      ],
      "metadata": {
        "id": "a2Z1WsffFyxD"
      }
    },
    {
      "cell_type": "code",
      "source": [
        "create_model(og_json,df)"
      ],
      "metadata": {
        "colab": {
          "base_uri": "https://localhost:8080/",
          "height": 369
        },
        "id": "RIC-aiyKFXzu",
        "outputId": "9e0897bb-b1cc-4c88-9d46-f07bbe940901"
      },
      "execution_count": 16,
      "outputs": [
        {
          "output_type": "stream",
          "name": "stdout",
          "text": [
            "Dependent Variables: ['sepal_length', 'sepal_width', 'petal_length', 'species']\n",
            "-------------------------------------\n",
            "Target Variable: petal_width\n",
            "Original parameter for Grid Search: {'n_estimators': [10, 20], 'max_depth': range(20, 26), 'min_samples_split': [2], 'min_samples_leaf': range(5, 11)}\n",
            "-------------------------------------\n",
            "  \n",
            "Fitting 5 folds for each of 72 candidates, totalling 360 fits\n",
            "Best parameters are: RandomForestRegressor(max_depth=21, min_samples_leaf=6, n_estimators=20,\n",
            "                      n_jobs=-1)\n",
            "-------------------------------------\n",
            "  \n",
            "Mean Squared Error: 0.0336062537541425\n",
            "-------------------------------------\n",
            "  \n",
            "R-squared: 0.9335319348217118\n"
          ]
        },
        {
          "output_type": "execute_result",
          "data": {
            "text/plain": [
              "RandomForestRegressor(max_depth=21, min_samples_leaf=6, n_estimators=20,\n",
              "                      n_jobs=-1)"
            ],
            "text/html": [
              "<style>#sk-container-id-1 {color: black;background-color: white;}#sk-container-id-1 pre{padding: 0;}#sk-container-id-1 div.sk-toggleable {background-color: white;}#sk-container-id-1 label.sk-toggleable__label {cursor: pointer;display: block;width: 100%;margin-bottom: 0;padding: 0.3em;box-sizing: border-box;text-align: center;}#sk-container-id-1 label.sk-toggleable__label-arrow:before {content: \"▸\";float: left;margin-right: 0.25em;color: #696969;}#sk-container-id-1 label.sk-toggleable__label-arrow:hover:before {color: black;}#sk-container-id-1 div.sk-estimator:hover label.sk-toggleable__label-arrow:before {color: black;}#sk-container-id-1 div.sk-toggleable__content {max-height: 0;max-width: 0;overflow: hidden;text-align: left;background-color: #f0f8ff;}#sk-container-id-1 div.sk-toggleable__content pre {margin: 0.2em;color: black;border-radius: 0.25em;background-color: #f0f8ff;}#sk-container-id-1 input.sk-toggleable__control:checked~div.sk-toggleable__content {max-height: 200px;max-width: 100%;overflow: auto;}#sk-container-id-1 input.sk-toggleable__control:checked~label.sk-toggleable__label-arrow:before {content: \"▾\";}#sk-container-id-1 div.sk-estimator input.sk-toggleable__control:checked~label.sk-toggleable__label {background-color: #d4ebff;}#sk-container-id-1 div.sk-label input.sk-toggleable__control:checked~label.sk-toggleable__label {background-color: #d4ebff;}#sk-container-id-1 input.sk-hidden--visually {border: 0;clip: rect(1px 1px 1px 1px);clip: rect(1px, 1px, 1px, 1px);height: 1px;margin: -1px;overflow: hidden;padding: 0;position: absolute;width: 1px;}#sk-container-id-1 div.sk-estimator {font-family: monospace;background-color: #f0f8ff;border: 1px dotted black;border-radius: 0.25em;box-sizing: border-box;margin-bottom: 0.5em;}#sk-container-id-1 div.sk-estimator:hover {background-color: #d4ebff;}#sk-container-id-1 div.sk-parallel-item::after {content: \"\";width: 100%;border-bottom: 1px solid gray;flex-grow: 1;}#sk-container-id-1 div.sk-label:hover label.sk-toggleable__label {background-color: #d4ebff;}#sk-container-id-1 div.sk-serial::before {content: \"\";position: absolute;border-left: 1px solid gray;box-sizing: border-box;top: 0;bottom: 0;left: 50%;z-index: 0;}#sk-container-id-1 div.sk-serial {display: flex;flex-direction: column;align-items: center;background-color: white;padding-right: 0.2em;padding-left: 0.2em;position: relative;}#sk-container-id-1 div.sk-item {position: relative;z-index: 1;}#sk-container-id-1 div.sk-parallel {display: flex;align-items: stretch;justify-content: center;background-color: white;position: relative;}#sk-container-id-1 div.sk-item::before, #sk-container-id-1 div.sk-parallel-item::before {content: \"\";position: absolute;border-left: 1px solid gray;box-sizing: border-box;top: 0;bottom: 0;left: 50%;z-index: -1;}#sk-container-id-1 div.sk-parallel-item {display: flex;flex-direction: column;z-index: 1;position: relative;background-color: white;}#sk-container-id-1 div.sk-parallel-item:first-child::after {align-self: flex-end;width: 50%;}#sk-container-id-1 div.sk-parallel-item:last-child::after {align-self: flex-start;width: 50%;}#sk-container-id-1 div.sk-parallel-item:only-child::after {width: 0;}#sk-container-id-1 div.sk-dashed-wrapped {border: 1px dashed gray;margin: 0 0.4em 0.5em 0.4em;box-sizing: border-box;padding-bottom: 0.4em;background-color: white;}#sk-container-id-1 div.sk-label label {font-family: monospace;font-weight: bold;display: inline-block;line-height: 1.2em;}#sk-container-id-1 div.sk-label-container {text-align: center;}#sk-container-id-1 div.sk-container {/* jupyter's `normalize.less` sets `[hidden] { display: none; }` but bootstrap.min.css set `[hidden] { display: none !important; }` so we also need the `!important` here to be able to override the default hidden behavior on the sphinx rendered scikit-learn.org. See: https://github.com/scikit-learn/scikit-learn/issues/21755 */display: inline-block !important;position: relative;}#sk-container-id-1 div.sk-text-repr-fallback {display: none;}</style><div id=\"sk-container-id-1\" class=\"sk-top-container\"><div class=\"sk-text-repr-fallback\"><pre>RandomForestRegressor(max_depth=21, min_samples_leaf=6, n_estimators=20,\n",
              "                      n_jobs=-1)</pre><b>In a Jupyter environment, please rerun this cell to show the HTML representation or trust the notebook. <br />On GitHub, the HTML representation is unable to render, please try loading this page with nbviewer.org.</b></div><div class=\"sk-container\" hidden><div class=\"sk-item\"><div class=\"sk-estimator sk-toggleable\"><input class=\"sk-toggleable__control sk-hidden--visually\" id=\"sk-estimator-id-1\" type=\"checkbox\" checked><label for=\"sk-estimator-id-1\" class=\"sk-toggleable__label sk-toggleable__label-arrow\">RandomForestRegressor</label><div class=\"sk-toggleable__content\"><pre>RandomForestRegressor(max_depth=21, min_samples_leaf=6, n_estimators=20,\n",
              "                      n_jobs=-1)</pre></div></div></div></div></div>"
            ]
          },
          "metadata": {},
          "execution_count": 16
        }
      ]
    },
    {
      "cell_type": "markdown",
      "source": [
        "## Different models on different json files"
      ],
      "metadata": {
        "id": "ACh1-FySF_Xn"
      }
    },
    {
      "cell_type": "code",
      "source": [
        "create_model(knn_json,df)"
      ],
      "metadata": {
        "colab": {
          "base_uri": "https://localhost:8080/",
          "height": 278
        },
        "id": "jJkpPKVmFiLO",
        "outputId": "bdc1fd0b-55d0-4127-f88f-8ebc0dd322b4"
      },
      "execution_count": 24,
      "outputs": [
        {
          "output_type": "stream",
          "name": "stdout",
          "text": [
            "Dependent Variables: ['sepal_length', 'sepal_width', 'petal_length', 'petal_width']\n",
            "-------------------------------------\n",
            "Target Variable: species\n",
            "Original parameter for Grid Search: {'n_neighbors': [78]}\n",
            "-------------------------------------\n",
            "  \n",
            "Fitting 5 folds for each of 1 candidates, totalling 5 fits\n",
            "Best parameters are: KNeighborsClassifier(n_neighbors=78, weights='distance')\n",
            "-------------------------------------\n",
            "  \n",
            "Accuracy: 0.9\n"
          ]
        },
        {
          "output_type": "execute_result",
          "data": {
            "text/plain": [
              "KNeighborsClassifier(n_neighbors=78, weights='distance')"
            ],
            "text/html": [
              "<style>#sk-container-id-2 {color: black;background-color: white;}#sk-container-id-2 pre{padding: 0;}#sk-container-id-2 div.sk-toggleable {background-color: white;}#sk-container-id-2 label.sk-toggleable__label {cursor: pointer;display: block;width: 100%;margin-bottom: 0;padding: 0.3em;box-sizing: border-box;text-align: center;}#sk-container-id-2 label.sk-toggleable__label-arrow:before {content: \"▸\";float: left;margin-right: 0.25em;color: #696969;}#sk-container-id-2 label.sk-toggleable__label-arrow:hover:before {color: black;}#sk-container-id-2 div.sk-estimator:hover label.sk-toggleable__label-arrow:before {color: black;}#sk-container-id-2 div.sk-toggleable__content {max-height: 0;max-width: 0;overflow: hidden;text-align: left;background-color: #f0f8ff;}#sk-container-id-2 div.sk-toggleable__content pre {margin: 0.2em;color: black;border-radius: 0.25em;background-color: #f0f8ff;}#sk-container-id-2 input.sk-toggleable__control:checked~div.sk-toggleable__content {max-height: 200px;max-width: 100%;overflow: auto;}#sk-container-id-2 input.sk-toggleable__control:checked~label.sk-toggleable__label-arrow:before {content: \"▾\";}#sk-container-id-2 div.sk-estimator input.sk-toggleable__control:checked~label.sk-toggleable__label {background-color: #d4ebff;}#sk-container-id-2 div.sk-label input.sk-toggleable__control:checked~label.sk-toggleable__label {background-color: #d4ebff;}#sk-container-id-2 input.sk-hidden--visually {border: 0;clip: rect(1px 1px 1px 1px);clip: rect(1px, 1px, 1px, 1px);height: 1px;margin: -1px;overflow: hidden;padding: 0;position: absolute;width: 1px;}#sk-container-id-2 div.sk-estimator {font-family: monospace;background-color: #f0f8ff;border: 1px dotted black;border-radius: 0.25em;box-sizing: border-box;margin-bottom: 0.5em;}#sk-container-id-2 div.sk-estimator:hover {background-color: #d4ebff;}#sk-container-id-2 div.sk-parallel-item::after {content: \"\";width: 100%;border-bottom: 1px solid gray;flex-grow: 1;}#sk-container-id-2 div.sk-label:hover label.sk-toggleable__label {background-color: #d4ebff;}#sk-container-id-2 div.sk-serial::before {content: \"\";position: absolute;border-left: 1px solid gray;box-sizing: border-box;top: 0;bottom: 0;left: 50%;z-index: 0;}#sk-container-id-2 div.sk-serial {display: flex;flex-direction: column;align-items: center;background-color: white;padding-right: 0.2em;padding-left: 0.2em;position: relative;}#sk-container-id-2 div.sk-item {position: relative;z-index: 1;}#sk-container-id-2 div.sk-parallel {display: flex;align-items: stretch;justify-content: center;background-color: white;position: relative;}#sk-container-id-2 div.sk-item::before, #sk-container-id-2 div.sk-parallel-item::before {content: \"\";position: absolute;border-left: 1px solid gray;box-sizing: border-box;top: 0;bottom: 0;left: 50%;z-index: -1;}#sk-container-id-2 div.sk-parallel-item {display: flex;flex-direction: column;z-index: 1;position: relative;background-color: white;}#sk-container-id-2 div.sk-parallel-item:first-child::after {align-self: flex-end;width: 50%;}#sk-container-id-2 div.sk-parallel-item:last-child::after {align-self: flex-start;width: 50%;}#sk-container-id-2 div.sk-parallel-item:only-child::after {width: 0;}#sk-container-id-2 div.sk-dashed-wrapped {border: 1px dashed gray;margin: 0 0.4em 0.5em 0.4em;box-sizing: border-box;padding-bottom: 0.4em;background-color: white;}#sk-container-id-2 div.sk-label label {font-family: monospace;font-weight: bold;display: inline-block;line-height: 1.2em;}#sk-container-id-2 div.sk-label-container {text-align: center;}#sk-container-id-2 div.sk-container {/* jupyter's `normalize.less` sets `[hidden] { display: none; }` but bootstrap.min.css set `[hidden] { display: none !important; }` so we also need the `!important` here to be able to override the default hidden behavior on the sphinx rendered scikit-learn.org. See: https://github.com/scikit-learn/scikit-learn/issues/21755 */display: inline-block !important;position: relative;}#sk-container-id-2 div.sk-text-repr-fallback {display: none;}</style><div id=\"sk-container-id-2\" class=\"sk-top-container\"><div class=\"sk-text-repr-fallback\"><pre>KNeighborsClassifier(n_neighbors=78, weights=&#x27;distance&#x27;)</pre><b>In a Jupyter environment, please rerun this cell to show the HTML representation or trust the notebook. <br />On GitHub, the HTML representation is unable to render, please try loading this page with nbviewer.org.</b></div><div class=\"sk-container\" hidden><div class=\"sk-item\"><div class=\"sk-estimator sk-toggleable\"><input class=\"sk-toggleable__control sk-hidden--visually\" id=\"sk-estimator-id-2\" type=\"checkbox\" checked><label for=\"sk-estimator-id-2\" class=\"sk-toggleable__label sk-toggleable__label-arrow\">KNeighborsClassifier</label><div class=\"sk-toggleable__content\"><pre>KNeighborsClassifier(n_neighbors=78, weights=&#x27;distance&#x27;)</pre></div></div></div></div></div>"
            ]
          },
          "metadata": {},
          "execution_count": 24
        }
      ]
    },
    {
      "cell_type": "code",
      "source": [
        "create_model(elastic_json,df)"
      ],
      "metadata": {
        "colab": {
          "base_uri": "https://localhost:8080/",
          "height": 353
        },
        "id": "8bY4xzliGQ-u",
        "outputId": "d2dbe930-dc27-45b7-e09f-98088920e09d"
      },
      "execution_count": 45,
      "outputs": [
        {
          "output_type": "stream",
          "name": "stdout",
          "text": [
            "Dependent Variables: ['sepal_length', 'sepal_width', 'petal_length', 'species']\n",
            "-------------------------------------\n",
            "Target Variable: petal_width\n",
            "Original parameter for Grid Search: {'alpha': [0.5, 0.8], 'l1_ratio': [0.5, 0.8], 'fit_intercept': [True, False], 'precompute': [True, False], 'positive': [False], 'selection': ['cyclic', 'random'], 'max_iter': [30, 50], 'tol': [0.0001]}\n",
            "-------------------------------------\n",
            "  \n",
            "Fitting 5 folds for each of 64 candidates, totalling 320 fits\n",
            "Best parameters are: ElasticNet(alpha=0.5, fit_intercept=False, max_iter=30)\n",
            "-------------------------------------\n",
            "  \n",
            "Mean Squared Error: 0.07486363835419937\n",
            "-------------------------------------\n",
            "  \n",
            "R-squared: 0.8688877492872416\n"
          ]
        },
        {
          "output_type": "execute_result",
          "data": {
            "text/plain": [
              "ElasticNet(alpha=0.5, fit_intercept=False, max_iter=30)"
            ],
            "text/html": [
              "<style>#sk-container-id-6 {color: black;background-color: white;}#sk-container-id-6 pre{padding: 0;}#sk-container-id-6 div.sk-toggleable {background-color: white;}#sk-container-id-6 label.sk-toggleable__label {cursor: pointer;display: block;width: 100%;margin-bottom: 0;padding: 0.3em;box-sizing: border-box;text-align: center;}#sk-container-id-6 label.sk-toggleable__label-arrow:before {content: \"▸\";float: left;margin-right: 0.25em;color: #696969;}#sk-container-id-6 label.sk-toggleable__label-arrow:hover:before {color: black;}#sk-container-id-6 div.sk-estimator:hover label.sk-toggleable__label-arrow:before {color: black;}#sk-container-id-6 div.sk-toggleable__content {max-height: 0;max-width: 0;overflow: hidden;text-align: left;background-color: #f0f8ff;}#sk-container-id-6 div.sk-toggleable__content pre {margin: 0.2em;color: black;border-radius: 0.25em;background-color: #f0f8ff;}#sk-container-id-6 input.sk-toggleable__control:checked~div.sk-toggleable__content {max-height: 200px;max-width: 100%;overflow: auto;}#sk-container-id-6 input.sk-toggleable__control:checked~label.sk-toggleable__label-arrow:before {content: \"▾\";}#sk-container-id-6 div.sk-estimator input.sk-toggleable__control:checked~label.sk-toggleable__label {background-color: #d4ebff;}#sk-container-id-6 div.sk-label input.sk-toggleable__control:checked~label.sk-toggleable__label {background-color: #d4ebff;}#sk-container-id-6 input.sk-hidden--visually {border: 0;clip: rect(1px 1px 1px 1px);clip: rect(1px, 1px, 1px, 1px);height: 1px;margin: -1px;overflow: hidden;padding: 0;position: absolute;width: 1px;}#sk-container-id-6 div.sk-estimator {font-family: monospace;background-color: #f0f8ff;border: 1px dotted black;border-radius: 0.25em;box-sizing: border-box;margin-bottom: 0.5em;}#sk-container-id-6 div.sk-estimator:hover {background-color: #d4ebff;}#sk-container-id-6 div.sk-parallel-item::after {content: \"\";width: 100%;border-bottom: 1px solid gray;flex-grow: 1;}#sk-container-id-6 div.sk-label:hover label.sk-toggleable__label {background-color: #d4ebff;}#sk-container-id-6 div.sk-serial::before {content: \"\";position: absolute;border-left: 1px solid gray;box-sizing: border-box;top: 0;bottom: 0;left: 50%;z-index: 0;}#sk-container-id-6 div.sk-serial {display: flex;flex-direction: column;align-items: center;background-color: white;padding-right: 0.2em;padding-left: 0.2em;position: relative;}#sk-container-id-6 div.sk-item {position: relative;z-index: 1;}#sk-container-id-6 div.sk-parallel {display: flex;align-items: stretch;justify-content: center;background-color: white;position: relative;}#sk-container-id-6 div.sk-item::before, #sk-container-id-6 div.sk-parallel-item::before {content: \"\";position: absolute;border-left: 1px solid gray;box-sizing: border-box;top: 0;bottom: 0;left: 50%;z-index: -1;}#sk-container-id-6 div.sk-parallel-item {display: flex;flex-direction: column;z-index: 1;position: relative;background-color: white;}#sk-container-id-6 div.sk-parallel-item:first-child::after {align-self: flex-end;width: 50%;}#sk-container-id-6 div.sk-parallel-item:last-child::after {align-self: flex-start;width: 50%;}#sk-container-id-6 div.sk-parallel-item:only-child::after {width: 0;}#sk-container-id-6 div.sk-dashed-wrapped {border: 1px dashed gray;margin: 0 0.4em 0.5em 0.4em;box-sizing: border-box;padding-bottom: 0.4em;background-color: white;}#sk-container-id-6 div.sk-label label {font-family: monospace;font-weight: bold;display: inline-block;line-height: 1.2em;}#sk-container-id-6 div.sk-label-container {text-align: center;}#sk-container-id-6 div.sk-container {/* jupyter's `normalize.less` sets `[hidden] { display: none; }` but bootstrap.min.css set `[hidden] { display: none !important; }` so we also need the `!important` here to be able to override the default hidden behavior on the sphinx rendered scikit-learn.org. See: https://github.com/scikit-learn/scikit-learn/issues/21755 */display: inline-block !important;position: relative;}#sk-container-id-6 div.sk-text-repr-fallback {display: none;}</style><div id=\"sk-container-id-6\" class=\"sk-top-container\"><div class=\"sk-text-repr-fallback\"><pre>ElasticNet(alpha=0.5, fit_intercept=False, max_iter=30)</pre><b>In a Jupyter environment, please rerun this cell to show the HTML representation or trust the notebook. <br />On GitHub, the HTML representation is unable to render, please try loading this page with nbviewer.org.</b></div><div class=\"sk-container\" hidden><div class=\"sk-item\"><div class=\"sk-estimator sk-toggleable\"><input class=\"sk-toggleable__control sk-hidden--visually\" id=\"sk-estimator-id-6\" type=\"checkbox\" checked><label for=\"sk-estimator-id-6\" class=\"sk-toggleable__label sk-toggleable__label-arrow\">ElasticNet</label><div class=\"sk-toggleable__content\"><pre>ElasticNet(alpha=0.5, fit_intercept=False, max_iter=30)</pre></div></div></div></div></div>"
            ]
          },
          "metadata": {},
          "execution_count": 45
        }
      ]
    },
    {
      "cell_type": "code",
      "source": [
        "create_model(gbt_json,df)"
      ],
      "metadata": {
        "colab": {
          "base_uri": "https://localhost:8080/",
          "height": 334
        },
        "id": "8hvUxzbwIYvH",
        "outputId": "c2ba5448-1a1a-43eb-c196-e24383a336e9"
      },
      "execution_count": 28,
      "outputs": [
        {
          "output_type": "stream",
          "name": "stdout",
          "text": [
            "Dependent Variables: ['sepal_length', 'sepal_width', 'petal_length', 'petal_width']\n",
            "-------------------------------------\n",
            "Target Variable: species\n",
            "Original parameter for Grid Search: {'n_estimators': [67, 89], 'subsample': [1, 2], 'min_samples_split': [2], 'min_samples_leaf': [1, 2], 'max_depth': range(5, 8), 'learning_rate': [0.1], 'min_impurity_decrease': [0]}\n",
            "-------------------------------------\n",
            "  \n",
            "Fitting 5 folds for each of 24 candidates, totalling 120 fits\n",
            "Best parameters are: GradientBoostingClassifier(max_depth=7, min_impurity_decrease=0,\n",
            "                           min_samples_leaf=2, n_estimators=67, subsample=1)\n",
            "-------------------------------------\n",
            "  \n",
            "Accuracy: 0.9666666666666667\n"
          ]
        },
        {
          "output_type": "execute_result",
          "data": {
            "text/plain": [
              "GradientBoostingClassifier(max_depth=7, min_impurity_decrease=0,\n",
              "                           min_samples_leaf=2, n_estimators=67, subsample=1)"
            ],
            "text/html": [
              "<style>#sk-container-id-4 {color: black;background-color: white;}#sk-container-id-4 pre{padding: 0;}#sk-container-id-4 div.sk-toggleable {background-color: white;}#sk-container-id-4 label.sk-toggleable__label {cursor: pointer;display: block;width: 100%;margin-bottom: 0;padding: 0.3em;box-sizing: border-box;text-align: center;}#sk-container-id-4 label.sk-toggleable__label-arrow:before {content: \"▸\";float: left;margin-right: 0.25em;color: #696969;}#sk-container-id-4 label.sk-toggleable__label-arrow:hover:before {color: black;}#sk-container-id-4 div.sk-estimator:hover label.sk-toggleable__label-arrow:before {color: black;}#sk-container-id-4 div.sk-toggleable__content {max-height: 0;max-width: 0;overflow: hidden;text-align: left;background-color: #f0f8ff;}#sk-container-id-4 div.sk-toggleable__content pre {margin: 0.2em;color: black;border-radius: 0.25em;background-color: #f0f8ff;}#sk-container-id-4 input.sk-toggleable__control:checked~div.sk-toggleable__content {max-height: 200px;max-width: 100%;overflow: auto;}#sk-container-id-4 input.sk-toggleable__control:checked~label.sk-toggleable__label-arrow:before {content: \"▾\";}#sk-container-id-4 div.sk-estimator input.sk-toggleable__control:checked~label.sk-toggleable__label {background-color: #d4ebff;}#sk-container-id-4 div.sk-label input.sk-toggleable__control:checked~label.sk-toggleable__label {background-color: #d4ebff;}#sk-container-id-4 input.sk-hidden--visually {border: 0;clip: rect(1px 1px 1px 1px);clip: rect(1px, 1px, 1px, 1px);height: 1px;margin: -1px;overflow: hidden;padding: 0;position: absolute;width: 1px;}#sk-container-id-4 div.sk-estimator {font-family: monospace;background-color: #f0f8ff;border: 1px dotted black;border-radius: 0.25em;box-sizing: border-box;margin-bottom: 0.5em;}#sk-container-id-4 div.sk-estimator:hover {background-color: #d4ebff;}#sk-container-id-4 div.sk-parallel-item::after {content: \"\";width: 100%;border-bottom: 1px solid gray;flex-grow: 1;}#sk-container-id-4 div.sk-label:hover label.sk-toggleable__label {background-color: #d4ebff;}#sk-container-id-4 div.sk-serial::before {content: \"\";position: absolute;border-left: 1px solid gray;box-sizing: border-box;top: 0;bottom: 0;left: 50%;z-index: 0;}#sk-container-id-4 div.sk-serial {display: flex;flex-direction: column;align-items: center;background-color: white;padding-right: 0.2em;padding-left: 0.2em;position: relative;}#sk-container-id-4 div.sk-item {position: relative;z-index: 1;}#sk-container-id-4 div.sk-parallel {display: flex;align-items: stretch;justify-content: center;background-color: white;position: relative;}#sk-container-id-4 div.sk-item::before, #sk-container-id-4 div.sk-parallel-item::before {content: \"\";position: absolute;border-left: 1px solid gray;box-sizing: border-box;top: 0;bottom: 0;left: 50%;z-index: -1;}#sk-container-id-4 div.sk-parallel-item {display: flex;flex-direction: column;z-index: 1;position: relative;background-color: white;}#sk-container-id-4 div.sk-parallel-item:first-child::after {align-self: flex-end;width: 50%;}#sk-container-id-4 div.sk-parallel-item:last-child::after {align-self: flex-start;width: 50%;}#sk-container-id-4 div.sk-parallel-item:only-child::after {width: 0;}#sk-container-id-4 div.sk-dashed-wrapped {border: 1px dashed gray;margin: 0 0.4em 0.5em 0.4em;box-sizing: border-box;padding-bottom: 0.4em;background-color: white;}#sk-container-id-4 div.sk-label label {font-family: monospace;font-weight: bold;display: inline-block;line-height: 1.2em;}#sk-container-id-4 div.sk-label-container {text-align: center;}#sk-container-id-4 div.sk-container {/* jupyter's `normalize.less` sets `[hidden] { display: none; }` but bootstrap.min.css set `[hidden] { display: none !important; }` so we also need the `!important` here to be able to override the default hidden behavior on the sphinx rendered scikit-learn.org. See: https://github.com/scikit-learn/scikit-learn/issues/21755 */display: inline-block !important;position: relative;}#sk-container-id-4 div.sk-text-repr-fallback {display: none;}</style><div id=\"sk-container-id-4\" class=\"sk-top-container\"><div class=\"sk-text-repr-fallback\"><pre>GradientBoostingClassifier(max_depth=7, min_impurity_decrease=0,\n",
              "                           min_samples_leaf=2, n_estimators=67, subsample=1)</pre><b>In a Jupyter environment, please rerun this cell to show the HTML representation or trust the notebook. <br />On GitHub, the HTML representation is unable to render, please try loading this page with nbviewer.org.</b></div><div class=\"sk-container\" hidden><div class=\"sk-item\"><div class=\"sk-estimator sk-toggleable\"><input class=\"sk-toggleable__control sk-hidden--visually\" id=\"sk-estimator-id-4\" type=\"checkbox\" checked><label for=\"sk-estimator-id-4\" class=\"sk-toggleable__label sk-toggleable__label-arrow\">GradientBoostingClassifier</label><div class=\"sk-toggleable__content\"><pre>GradientBoostingClassifier(max_depth=7, min_impurity_decrease=0,\n",
              "                           min_samples_leaf=2, n_estimators=67, subsample=1)</pre></div></div></div></div></div>"
            ]
          },
          "metadata": {},
          "execution_count": 28
        }
      ]
    },
    {
      "cell_type": "code",
      "source": [
        "create_model(neural_json,df)"
      ],
      "metadata": {
        "colab": {
          "base_uri": "https://localhost:8080/",
          "height": 369
        },
        "id": "g4lylHUdIr-e",
        "outputId": "ff4751e2-18f9-45aa-f493-adf59c2710c5"
      },
      "execution_count": 43,
      "outputs": [
        {
          "output_type": "stream",
          "name": "stdout",
          "text": [
            "Dependent Variables: ['sepal_length', 'sepal_width', 'petal_length', 'petal_width']\n",
            "-------------------------------------\n",
            "Target Variable: species\n",
            "Original parameter for Grid Search: {'hidden_layer_sizes': [67, 89], 'activation': ['relu'], 'alpha': [0.001], 'max_iter': [200], 'tol': [0], 'early_stopping': [True], 'solver': ['adam'], 'shuffle': [True], 'learning_rate_init': [0.001], 'batch_size': ['auto'], 'beta_1': [0.9], 'beta_2': [0.9], 'epsilon': [1e-06], 'power_t': [0], 'momentum': [0], 'nesterovs_momentum': [False]}\n",
            "-------------------------------------\n",
            "  \n",
            "Fitting 5 folds for each of 2 candidates, totalling 10 fits\n",
            "Best parameters are: MLPClassifier(alpha=0.001, beta_2=0.9, early_stopping=True, epsilon=1e-06,\n",
            "              hidden_layer_sizes=89, momentum=0, nesterovs_momentum=False,\n",
            "              power_t=0, tol=0)\n",
            "-------------------------------------\n",
            "  \n",
            "Accuracy: 0.9666666666666667\n"
          ]
        },
        {
          "output_type": "execute_result",
          "data": {
            "text/plain": [
              "MLPClassifier(alpha=0.001, beta_2=0.9, early_stopping=True, epsilon=1e-06,\n",
              "              hidden_layer_sizes=89, momentum=0, nesterovs_momentum=False,\n",
              "              power_t=0, tol=0)"
            ],
            "text/html": [
              "<style>#sk-container-id-5 {color: black;background-color: white;}#sk-container-id-5 pre{padding: 0;}#sk-container-id-5 div.sk-toggleable {background-color: white;}#sk-container-id-5 label.sk-toggleable__label {cursor: pointer;display: block;width: 100%;margin-bottom: 0;padding: 0.3em;box-sizing: border-box;text-align: center;}#sk-container-id-5 label.sk-toggleable__label-arrow:before {content: \"▸\";float: left;margin-right: 0.25em;color: #696969;}#sk-container-id-5 label.sk-toggleable__label-arrow:hover:before {color: black;}#sk-container-id-5 div.sk-estimator:hover label.sk-toggleable__label-arrow:before {color: black;}#sk-container-id-5 div.sk-toggleable__content {max-height: 0;max-width: 0;overflow: hidden;text-align: left;background-color: #f0f8ff;}#sk-container-id-5 div.sk-toggleable__content pre {margin: 0.2em;color: black;border-radius: 0.25em;background-color: #f0f8ff;}#sk-container-id-5 input.sk-toggleable__control:checked~div.sk-toggleable__content {max-height: 200px;max-width: 100%;overflow: auto;}#sk-container-id-5 input.sk-toggleable__control:checked~label.sk-toggleable__label-arrow:before {content: \"▾\";}#sk-container-id-5 div.sk-estimator input.sk-toggleable__control:checked~label.sk-toggleable__label {background-color: #d4ebff;}#sk-container-id-5 div.sk-label input.sk-toggleable__control:checked~label.sk-toggleable__label {background-color: #d4ebff;}#sk-container-id-5 input.sk-hidden--visually {border: 0;clip: rect(1px 1px 1px 1px);clip: rect(1px, 1px, 1px, 1px);height: 1px;margin: -1px;overflow: hidden;padding: 0;position: absolute;width: 1px;}#sk-container-id-5 div.sk-estimator {font-family: monospace;background-color: #f0f8ff;border: 1px dotted black;border-radius: 0.25em;box-sizing: border-box;margin-bottom: 0.5em;}#sk-container-id-5 div.sk-estimator:hover {background-color: #d4ebff;}#sk-container-id-5 div.sk-parallel-item::after {content: \"\";width: 100%;border-bottom: 1px solid gray;flex-grow: 1;}#sk-container-id-5 div.sk-label:hover label.sk-toggleable__label {background-color: #d4ebff;}#sk-container-id-5 div.sk-serial::before {content: \"\";position: absolute;border-left: 1px solid gray;box-sizing: border-box;top: 0;bottom: 0;left: 50%;z-index: 0;}#sk-container-id-5 div.sk-serial {display: flex;flex-direction: column;align-items: center;background-color: white;padding-right: 0.2em;padding-left: 0.2em;position: relative;}#sk-container-id-5 div.sk-item {position: relative;z-index: 1;}#sk-container-id-5 div.sk-parallel {display: flex;align-items: stretch;justify-content: center;background-color: white;position: relative;}#sk-container-id-5 div.sk-item::before, #sk-container-id-5 div.sk-parallel-item::before {content: \"\";position: absolute;border-left: 1px solid gray;box-sizing: border-box;top: 0;bottom: 0;left: 50%;z-index: -1;}#sk-container-id-5 div.sk-parallel-item {display: flex;flex-direction: column;z-index: 1;position: relative;background-color: white;}#sk-container-id-5 div.sk-parallel-item:first-child::after {align-self: flex-end;width: 50%;}#sk-container-id-5 div.sk-parallel-item:last-child::after {align-self: flex-start;width: 50%;}#sk-container-id-5 div.sk-parallel-item:only-child::after {width: 0;}#sk-container-id-5 div.sk-dashed-wrapped {border: 1px dashed gray;margin: 0 0.4em 0.5em 0.4em;box-sizing: border-box;padding-bottom: 0.4em;background-color: white;}#sk-container-id-5 div.sk-label label {font-family: monospace;font-weight: bold;display: inline-block;line-height: 1.2em;}#sk-container-id-5 div.sk-label-container {text-align: center;}#sk-container-id-5 div.sk-container {/* jupyter's `normalize.less` sets `[hidden] { display: none; }` but bootstrap.min.css set `[hidden] { display: none !important; }` so we also need the `!important` here to be able to override the default hidden behavior on the sphinx rendered scikit-learn.org. See: https://github.com/scikit-learn/scikit-learn/issues/21755 */display: inline-block !important;position: relative;}#sk-container-id-5 div.sk-text-repr-fallback {display: none;}</style><div id=\"sk-container-id-5\" class=\"sk-top-container\"><div class=\"sk-text-repr-fallback\"><pre>MLPClassifier(alpha=0.001, beta_2=0.9, early_stopping=True, epsilon=1e-06,\n",
              "              hidden_layer_sizes=89, momentum=0, nesterovs_momentum=False,\n",
              "              power_t=0, tol=0)</pre><b>In a Jupyter environment, please rerun this cell to show the HTML representation or trust the notebook. <br />On GitHub, the HTML representation is unable to render, please try loading this page with nbviewer.org.</b></div><div class=\"sk-container\" hidden><div class=\"sk-item\"><div class=\"sk-estimator sk-toggleable\"><input class=\"sk-toggleable__control sk-hidden--visually\" id=\"sk-estimator-id-5\" type=\"checkbox\" checked><label for=\"sk-estimator-id-5\" class=\"sk-toggleable__label sk-toggleable__label-arrow\">MLPClassifier</label><div class=\"sk-toggleable__content\"><pre>MLPClassifier(alpha=0.001, beta_2=0.9, early_stopping=True, epsilon=1e-06,\n",
              "              hidden_layer_sizes=89, momentum=0, nesterovs_momentum=False,\n",
              "              power_t=0, tol=0)</pre></div></div></div></div></div>"
            ]
          },
          "metadata": {},
          "execution_count": 43
        }
      ]
    },
    {
      "cell_type": "code",
      "source": [],
      "metadata": {
        "id": "IhcdxRyzJO-2"
      },
      "execution_count": null,
      "outputs": []
    }
  ]
}