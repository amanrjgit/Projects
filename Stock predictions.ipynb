{
 "cells": [
  {
   "cell_type": "code",
   "execution_count": 1,
   "metadata": {},
   "outputs": [],
   "source": [
    "import yfinance as yp\n",
    "import pandas as pd\n",
    "import numpy as np\n"
   ]
  },
  {
   "cell_type": "code",
   "execution_count": 71,
   "metadata": {},
   "outputs": [],
   "source": [
    "adani=yp.Ticker(\"ADANIPOWER.NS\")"
   ]
  },
  {
   "cell_type": "code",
   "execution_count": 73,
   "metadata": {},
   "outputs": [],
   "source": [
    "data= adani.history(period=\"max\")"
   ]
  },
  {
   "cell_type": "code",
   "execution_count": 74,
   "metadata": {},
   "outputs": [
    {
     "data": {
      "text/html": [
       "<div>\n",
       "<style scoped>\n",
       "    .dataframe tbody tr th:only-of-type {\n",
       "        vertical-align: middle;\n",
       "    }\n",
       "\n",
       "    .dataframe tbody tr th {\n",
       "        vertical-align: top;\n",
       "    }\n",
       "\n",
       "    .dataframe thead th {\n",
       "        text-align: right;\n",
       "    }\n",
       "</style>\n",
       "<table border=\"1\" class=\"dataframe\">\n",
       "  <thead>\n",
       "    <tr style=\"text-align: right;\">\n",
       "      <th></th>\n",
       "      <th>Open</th>\n",
       "      <th>High</th>\n",
       "      <th>Low</th>\n",
       "      <th>Close</th>\n",
       "      <th>Volume</th>\n",
       "      <th>Dividends</th>\n",
       "      <th>Stock Splits</th>\n",
       "    </tr>\n",
       "    <tr>\n",
       "      <th>Date</th>\n",
       "      <th></th>\n",
       "      <th></th>\n",
       "      <th></th>\n",
       "      <th></th>\n",
       "      <th></th>\n",
       "      <th></th>\n",
       "      <th></th>\n",
       "    </tr>\n",
       "  </thead>\n",
       "  <tbody>\n",
       "    <tr>\n",
       "      <th>2009-08-20</th>\n",
       "      <td>108.000000</td>\n",
       "      <td>110.000000</td>\n",
       "      <td>98.300003</td>\n",
       "      <td>100.099998</td>\n",
       "      <td>164328256</td>\n",
       "      <td>0</td>\n",
       "      <td>0</td>\n",
       "    </tr>\n",
       "    <tr>\n",
       "      <th>2009-08-21</th>\n",
       "      <td>99.900002</td>\n",
       "      <td>103.900002</td>\n",
       "      <td>98.000000</td>\n",
       "      <td>103.150002</td>\n",
       "      <td>33717840</td>\n",
       "      <td>0</td>\n",
       "      <td>0</td>\n",
       "    </tr>\n",
       "    <tr>\n",
       "      <th>2009-08-24</th>\n",
       "      <td>103.900002</td>\n",
       "      <td>104.400002</td>\n",
       "      <td>101.550003</td>\n",
       "      <td>103.099998</td>\n",
       "      <td>13665282</td>\n",
       "      <td>0</td>\n",
       "      <td>0</td>\n",
       "    </tr>\n",
       "    <tr>\n",
       "      <th>2009-08-25</th>\n",
       "      <td>102.500000</td>\n",
       "      <td>103.150002</td>\n",
       "      <td>101.000000</td>\n",
       "      <td>102.750000</td>\n",
       "      <td>11720267</td>\n",
       "      <td>0</td>\n",
       "      <td>0</td>\n",
       "    </tr>\n",
       "    <tr>\n",
       "      <th>2009-08-26</th>\n",
       "      <td>103.000000</td>\n",
       "      <td>107.500000</td>\n",
       "      <td>102.849998</td>\n",
       "      <td>105.099998</td>\n",
       "      <td>17158838</td>\n",
       "      <td>0</td>\n",
       "      <td>0</td>\n",
       "    </tr>\n",
       "    <tr>\n",
       "      <th>...</th>\n",
       "      <td>...</td>\n",
       "      <td>...</td>\n",
       "      <td>...</td>\n",
       "      <td>...</td>\n",
       "      <td>...</td>\n",
       "      <td>...</td>\n",
       "      <td>...</td>\n",
       "    </tr>\n",
       "    <tr>\n",
       "      <th>2022-09-13</th>\n",
       "      <td>400.500000</td>\n",
       "      <td>400.500000</td>\n",
       "      <td>392.500000</td>\n",
       "      <td>393.600006</td>\n",
       "      <td>2257842</td>\n",
       "      <td>0</td>\n",
       "      <td>0</td>\n",
       "    </tr>\n",
       "    <tr>\n",
       "      <th>2022-09-14</th>\n",
       "      <td>385.750000</td>\n",
       "      <td>397.000000</td>\n",
       "      <td>383.299988</td>\n",
       "      <td>384.549988</td>\n",
       "      <td>3469526</td>\n",
       "      <td>0</td>\n",
       "      <td>0</td>\n",
       "    </tr>\n",
       "    <tr>\n",
       "      <th>2022-09-15</th>\n",
       "      <td>389.500000</td>\n",
       "      <td>399.950012</td>\n",
       "      <td>383.000000</td>\n",
       "      <td>399.200012</td>\n",
       "      <td>2988397</td>\n",
       "      <td>0</td>\n",
       "      <td>0</td>\n",
       "    </tr>\n",
       "    <tr>\n",
       "      <th>2022-09-16</th>\n",
       "      <td>399.000000</td>\n",
       "      <td>399.899994</td>\n",
       "      <td>383.000000</td>\n",
       "      <td>387.750000</td>\n",
       "      <td>2709516</td>\n",
       "      <td>0</td>\n",
       "      <td>0</td>\n",
       "    </tr>\n",
       "    <tr>\n",
       "      <th>2022-09-19</th>\n",
       "      <td>390.000000</td>\n",
       "      <td>394.750000</td>\n",
       "      <td>384.000000</td>\n",
       "      <td>392.899994</td>\n",
       "      <td>460898</td>\n",
       "      <td>0</td>\n",
       "      <td>0</td>\n",
       "    </tr>\n",
       "  </tbody>\n",
       "</table>\n",
       "<p>3227 rows × 7 columns</p>\n",
       "</div>"
      ],
      "text/plain": [
       "                  Open        High         Low       Close     Volume  \\\n",
       "Date                                                                    \n",
       "2009-08-20  108.000000  110.000000   98.300003  100.099998  164328256   \n",
       "2009-08-21   99.900002  103.900002   98.000000  103.150002   33717840   \n",
       "2009-08-24  103.900002  104.400002  101.550003  103.099998   13665282   \n",
       "2009-08-25  102.500000  103.150002  101.000000  102.750000   11720267   \n",
       "2009-08-26  103.000000  107.500000  102.849998  105.099998   17158838   \n",
       "...                ...         ...         ...         ...        ...   \n",
       "2022-09-13  400.500000  400.500000  392.500000  393.600006    2257842   \n",
       "2022-09-14  385.750000  397.000000  383.299988  384.549988    3469526   \n",
       "2022-09-15  389.500000  399.950012  383.000000  399.200012    2988397   \n",
       "2022-09-16  399.000000  399.899994  383.000000  387.750000    2709516   \n",
       "2022-09-19  390.000000  394.750000  384.000000  392.899994     460898   \n",
       "\n",
       "            Dividends  Stock Splits  \n",
       "Date                                 \n",
       "2009-08-20          0             0  \n",
       "2009-08-21          0             0  \n",
       "2009-08-24          0             0  \n",
       "2009-08-25          0             0  \n",
       "2009-08-26          0             0  \n",
       "...               ...           ...  \n",
       "2022-09-13          0             0  \n",
       "2022-09-14          0             0  \n",
       "2022-09-15          0             0  \n",
       "2022-09-16          0             0  \n",
       "2022-09-19          0             0  \n",
       "\n",
       "[3227 rows x 7 columns]"
      ]
     },
     "execution_count": 74,
     "metadata": {},
     "output_type": "execute_result"
    }
   ],
   "source": [
    "data"
   ]
  },
  {
   "cell_type": "code",
   "execution_count": 75,
   "metadata": {},
   "outputs": [],
   "source": [
    "data.index = pd.to_datetime(data.index)\n"
   ]
  },
  {
   "cell_type": "code",
   "execution_count": 76,
   "metadata": {},
   "outputs": [],
   "source": [
    "import plotly.graph_objs as go"
   ]
  },
  {
   "cell_type": "code",
   "execution_count": 77,
   "metadata": {},
   "outputs": [
    {
     "data": {
      "text/plain": [
       "<AxesSubplot:xlabel='Date'>"
      ]
     },
     "execution_count": 77,
     "metadata": {},
     "output_type": "execute_result"
    },
    {
     "data": {
      "image/png": "[encoded data removed]",
      "text/plain": [
       "<Figure size 432x288 with 1 Axes>"
      ]
     },
     "metadata": {
      "needs_background": "light"
     },
     "output_type": "display_data"
    }
   ],
   "source": [
    "data.plot.line(y=\"Close\", use_index=True)"
   ]
  },
  {
   "cell_type": "code",
   "execution_count": 78,
   "metadata": {},
   "outputs": [],
   "source": [
    "del data[\"Dividends\"]\n",
    "del data[\"Stock Splits\"]"
   ]
  },
  {
   "cell_type": "code",
   "execution_count": 79,
   "metadata": {},
   "outputs": [],
   "source": [
    "data[\"Tomorrow\"] = data[\"Close\"].shift(-1)"
   ]
  },
  {
   "cell_type": "code",
   "execution_count": 80,
   "metadata": {},
   "outputs": [],
   "source": [
    "data[\"Target\"] = (data[\"Tomorrow\"] > data[\"Close\"]).astype(int)"
   ]
  },
  {
   "cell_type": "code",
   "execution_count": 81,
   "metadata": {},
   "outputs": [
    {
     "data": {
      "text/html": [
       "<div>\n",
       "<style scoped>\n",
       "    .dataframe tbody tr th:only-of-type {\n",
       "        vertical-align: middle;\n",
       "    }\n",
       "\n",
       "    .dataframe tbody tr th {\n",
       "        vertical-align: top;\n",
       "    }\n",
       "\n",
       "    .dataframe thead th {\n",
       "        text-align: right;\n",
       "    }\n",
       "</style>\n",
       "<table border=\"1\" class=\"dataframe\">\n",
       "  <thead>\n",
       "    <tr style=\"text-align: right;\">\n",
       "      <th></th>\n",
       "      <th>Open</th>\n",
       "      <th>High</th>\n",
       "      <th>Low</th>\n",
       "      <th>Close</th>\n",
       "      <th>Volume</th>\n",
       "      <th>Tomorrow</th>\n",
       "      <th>Target</th>\n",
       "    </tr>\n",
       "    <tr>\n",
       "      <th>Date</th>\n",
       "      <th></th>\n",
       "      <th></th>\n",
       "      <th></th>\n",
       "      <th></th>\n",
       "      <th></th>\n",
       "      <th></th>\n",
       "      <th></th>\n",
       "    </tr>\n",
       "  </thead>\n",
       "  <tbody>\n",
       "    <tr>\n",
       "      <th>2009-08-20</th>\n",
       "      <td>108.000000</td>\n",
       "      <td>110.000000</td>\n",
       "      <td>98.300003</td>\n",
       "      <td>100.099998</td>\n",
       "      <td>164328256</td>\n",
       "      <td>103.150002</td>\n",
       "      <td>1</td>\n",
       "    </tr>\n",
       "    <tr>\n",
       "      <th>2009-08-21</th>\n",
       "      <td>99.900002</td>\n",
       "      <td>103.900002</td>\n",
       "      <td>98.000000</td>\n",
       "      <td>103.150002</td>\n",
       "      <td>33717840</td>\n",
       "      <td>103.099998</td>\n",
       "      <td>0</td>\n",
       "    </tr>\n",
       "    <tr>\n",
       "      <th>2009-08-24</th>\n",
       "      <td>103.900002</td>\n",
       "      <td>104.400002</td>\n",
       "      <td>101.550003</td>\n",
       "      <td>103.099998</td>\n",
       "      <td>13665282</td>\n",
       "      <td>102.750000</td>\n",
       "      <td>0</td>\n",
       "    </tr>\n",
       "    <tr>\n",
       "      <th>2009-08-25</th>\n",
       "      <td>102.500000</td>\n",
       "      <td>103.150002</td>\n",
       "      <td>101.000000</td>\n",
       "      <td>102.750000</td>\n",
       "      <td>11720267</td>\n",
       "      <td>105.099998</td>\n",
       "      <td>1</td>\n",
       "    </tr>\n",
       "    <tr>\n",
       "      <th>2009-08-26</th>\n",
       "      <td>103.000000</td>\n",
       "      <td>107.500000</td>\n",
       "      <td>102.849998</td>\n",
       "      <td>105.099998</td>\n",
       "      <td>17158838</td>\n",
       "      <td>104.750000</td>\n",
       "      <td>0</td>\n",
       "    </tr>\n",
       "  </tbody>\n",
       "</table>\n",
       "</div>"
      ],
      "text/plain": [
       "                  Open        High         Low       Close     Volume  \\\n",
       "Date                                                                    \n",
       "2009-08-20  108.000000  110.000000   98.300003  100.099998  164328256   \n",
       "2009-08-21   99.900002  103.900002   98.000000  103.150002   33717840   \n",
       "2009-08-24  103.900002  104.400002  101.550003  103.099998   13665282   \n",
       "2009-08-25  102.500000  103.150002  101.000000  102.750000   11720267   \n",
       "2009-08-26  103.000000  107.500000  102.849998  105.099998   17158838   \n",
       "\n",
       "              Tomorrow  Target  \n",
       "Date                            \n",
       "2009-08-20  103.150002       1  \n",
       "2009-08-21  103.099998       0  \n",
       "2009-08-24  102.750000       0  \n",
       "2009-08-25  105.099998       1  \n",
       "2009-08-26  104.750000       0  "
      ]
     },
     "execution_count": 81,
     "metadata": {},
     "output_type": "execute_result"
    }
   ],
   "source": [
    "data.head()"
   ]
  },
  {
   "cell_type": "code",
   "execution_count": 82,
   "metadata": {},
   "outputs": [
    {
     "data": {
      "text/plain": [
       "0    1678\n",
       "1    1549\n",
       "Name: Target, dtype: int64"
      ]
     },
     "execution_count": 82,
     "metadata": {},
     "output_type": "execute_result"
    }
   ],
   "source": [
    "data[\"Target\"].value_counts()"
   ]
  },
  {
   "cell_type": "markdown",
   "metadata": {},
   "source": [
    "# Random forest model"
   ]
  },
  {
   "cell_type": "markdown",
   "metadata": {},
   "source": [
    "### Simple random forest"
   ]
  },
  {
   "cell_type": "code",
   "execution_count": 83,
   "metadata": {},
   "outputs": [
    {
     "data": {
      "text/plain": [
       "RandomForestClassifier(bootstrap=True, ccp_alpha=0.0, class_weight=None,\n",
       "                       criterion='gini', max_depth=None, max_features='auto',\n",
       "                       max_leaf_nodes=None, max_samples=None,\n",
       "                       min_impurity_decrease=0.0, min_impurity_split=None,\n",
       "                       min_samples_leaf=1, min_samples_split=100,\n",
       "                       min_weight_fraction_leaf=0.0, n_estimators=100,\n",
       "                       n_jobs=None, oob_score=False, random_state=1, verbose=0,\n",
       "                       warm_start=False)"
      ]
     },
     "execution_count": 83,
     "metadata": {},
     "output_type": "execute_result"
    }
   ],
   "source": [
    "from sklearn.ensemble import RandomForestClassifier\n",
    "\n",
    "model = RandomForestClassifier(n_estimators=100, min_samples_split=100, random_state=1)\n",
    "\n",
    "train = data.iloc[:-200]\n",
    "test = data.iloc[-200:]\n",
    "\n",
    "predictors = [\"Close\", \"Volume\", \"Open\", \"High\", \"Low\"]\n",
    "model.fit(train[predictors], train[\"Target\"])\n"
   ]
  },
  {
   "cell_type": "code",
   "execution_count": 84,
   "metadata": {},
   "outputs": [
    {
     "data": {
      "text/plain": [
       "0.5862068965517241"
      ]
     },
     "execution_count": 84,
     "metadata": {},
     "output_type": "execute_result"
    }
   ],
   "source": [
    "from sklearn.metrics import precision_score\n",
    "\n",
    "preds = model.predict(test[predictors])\n",
    "preds = pd.Series(preds, index=test.index)\n",
    "precision_score(test[\"Target\"], preds)"
   ]
  },
  {
   "cell_type": "code",
   "execution_count": 85,
   "metadata": {},
   "outputs": [
    {
     "data": {
      "text/plain": [
       "<AxesSubplot:xlabel='Date'>"
      ]
     },
     "execution_count": 85,
     "metadata": {},
     "output_type": "execute_result"
    },
    {
     "data": {
      "image/png": "[encoded data removed]",
      "text/plain": [
       "<Figure size 432x288 with 1 Axes>"
      ]
     },
     "metadata": {
      "needs_background": "light"
     },
     "output_type": "display_data"
    }
   ],
   "source": [
    "combined = pd.concat([test[\"Target\"], preds], axis=1)\n",
    "combined.plot()"
   ]
  },
  {
   "cell_type": "markdown",
   "metadata": {},
   "source": [
    "# Creating a back testing function"
   ]
  },
  {
   "cell_type": "code",
   "execution_count": 86,
   "metadata": {},
   "outputs": [],
   "source": [
    "def predict(train, test, predictors, model):\n",
    "    model.fit(train[predictors], train[\"Target\"])\n",
    "    preds = model.predict(test[predictors])\n",
    "    preds = pd.Series(preds, index=test.index, name=\"Predictions\")\n",
    "    combined = pd.concat([test[\"Target\"], preds], axis=1)\n",
    "    return combined\n"
   ]
  },
  {
   "cell_type": "code",
   "execution_count": 157,
   "metadata": {},
   "outputs": [],
   "source": [
    "def backtest(data, model, predictors, start=900, step=300):\n",
    "    all_predictions = []\n",
    "\n",
    "    for i in range(start, data.shape[0], step):\n",
    "        \n",
    "        train = data.iloc[0:i].copy()\n",
    "        test = data.iloc[i:(i+step)].copy()\n",
    "        predictions = predict(train, test, predictors, model)\n",
    "        all_predictions.append(predictions)\n",
    "    \n",
    "    return pd.concat(all_predictions)"
   ]
  },
  {
   "cell_type": "code",
   "execution_count": 158,
   "metadata": {},
   "outputs": [],
   "source": [
    "predictions = backtest(data, model, predictors)"
   ]
  },
  {
   "cell_type": "code",
   "execution_count": 159,
   "metadata": {},
   "outputs": [
    {
     "data": {
      "text/html": [
       "<div>\n",
       "<style scoped>\n",
       "    .dataframe tbody tr th:only-of-type {\n",
       "        vertical-align: middle;\n",
       "    }\n",
       "\n",
       "    .dataframe tbody tr th {\n",
       "        vertical-align: top;\n",
       "    }\n",
       "\n",
       "    .dataframe thead th {\n",
       "        text-align: right;\n",
       "    }\n",
       "</style>\n",
       "<table border=\"1\" class=\"dataframe\">\n",
       "  <thead>\n",
       "    <tr style=\"text-align: right;\">\n",
       "      <th></th>\n",
       "      <th>Target</th>\n",
       "      <th>Predictions</th>\n",
       "    </tr>\n",
       "    <tr>\n",
       "      <th>Date</th>\n",
       "      <th></th>\n",
       "      <th></th>\n",
       "    </tr>\n",
       "  </thead>\n",
       "  <tbody>\n",
       "    <tr>\n",
       "      <th>2013-04-11</th>\n",
       "      <td>1</td>\n",
       "      <td>0</td>\n",
       "    </tr>\n",
       "    <tr>\n",
       "      <th>2013-04-12</th>\n",
       "      <td>0</td>\n",
       "      <td>0</td>\n",
       "    </tr>\n",
       "    <tr>\n",
       "      <th>2013-04-15</th>\n",
       "      <td>1</td>\n",
       "      <td>1</td>\n",
       "    </tr>\n",
       "    <tr>\n",
       "      <th>2013-04-16</th>\n",
       "      <td>0</td>\n",
       "      <td>0</td>\n",
       "    </tr>\n",
       "    <tr>\n",
       "      <th>2013-04-17</th>\n",
       "      <td>1</td>\n",
       "      <td>0</td>\n",
       "    </tr>\n",
       "    <tr>\n",
       "      <th>...</th>\n",
       "      <td>...</td>\n",
       "      <td>...</td>\n",
       "    </tr>\n",
       "    <tr>\n",
       "      <th>2022-09-13</th>\n",
       "      <td>0</td>\n",
       "      <td>0</td>\n",
       "    </tr>\n",
       "    <tr>\n",
       "      <th>2022-09-14</th>\n",
       "      <td>1</td>\n",
       "      <td>0</td>\n",
       "    </tr>\n",
       "    <tr>\n",
       "      <th>2022-09-15</th>\n",
       "      <td>0</td>\n",
       "      <td>0</td>\n",
       "    </tr>\n",
       "    <tr>\n",
       "      <th>2022-09-16</th>\n",
       "      <td>1</td>\n",
       "      <td>0</td>\n",
       "    </tr>\n",
       "    <tr>\n",
       "      <th>2022-09-19</th>\n",
       "      <td>0</td>\n",
       "      <td>0</td>\n",
       "    </tr>\n",
       "  </tbody>\n",
       "</table>\n",
       "<p>2327 rows × 2 columns</p>\n",
       "</div>"
      ],
      "text/plain": [
       "            Target  Predictions\n",
       "Date                           \n",
       "2013-04-11       1            0\n",
       "2013-04-12       0            0\n",
       "2013-04-15       1            1\n",
       "2013-04-16       0            0\n",
       "2013-04-17       1            0\n",
       "...            ...          ...\n",
       "2022-09-13       0            0\n",
       "2022-09-14       1            0\n",
       "2022-09-15       0            0\n",
       "2022-09-16       1            0\n",
       "2022-09-19       0            0\n",
       "\n",
       "[2327 rows x 2 columns]"
      ]
     },
     "execution_count": 159,
     "metadata": {},
     "output_type": "execute_result"
    }
   ],
   "source": [
    "predictions"
   ]
  },
  {
   "cell_type": "code",
   "execution_count": 160,
   "metadata": {
    "scrolled": true
   },
   "outputs": [
    {
     "data": {
      "text/plain": [
       "0    1403\n",
       "1     924\n",
       "Name: Predictions, dtype: int64"
      ]
     },
     "execution_count": 160,
     "metadata": {},
     "output_type": "execute_result"
    }
   ],
   "source": [
    "predictions[\"Predictions\"].value_counts()"
   ]
  },
  {
   "cell_type": "code",
   "execution_count": 161,
   "metadata": {},
   "outputs": [
    {
     "data": {
      "text/plain": [
       "0.4816017316017316"
      ]
     },
     "execution_count": 161,
     "metadata": {},
     "output_type": "execute_result"
    }
   ],
   "source": [
    "precision_score(predictions[\"Target\"], predictions[\"Predictions\"])"
   ]
  },
  {
   "cell_type": "markdown",
   "metadata": {},
   "source": [
    "**The accuracy of the model is not good enough to be used for production, so lets make some chnages in the dataset and model and see if can improve the accuracy** "
   ]
  },
  {
   "cell_type": "code",
   "execution_count": 162,
   "metadata": {},
   "outputs": [],
   "source": [
    "horizons = [2,5,60,250]\n",
    "new_predictors = []\n",
    "\n",
    "for horizon in horizons:\n",
    "    rolling_averages = data.rolling(horizon).mean()\n",
    "    \n",
    "    ratio_column = f\"Close_Ratio_{horizon}\"\n",
    "    data[ratio_column] = data[\"Close\"] / rolling_averages[\"Close\"]\n",
    "    \n",
    "    trend_column = f\"Trend_{horizon}\"\n",
    "    data[trend_column] = data.shift(1).rolling(horizon).sum()[\"Target\"]\n",
    "    \n",
    "    new_predictors+= [ratio_column, trend_column]"
   ]
  },
  {
   "cell_type": "code",
   "execution_count": 163,
   "metadata": {},
   "outputs": [
    {
     "data": {
      "text/plain": [
       "['Close_Ratio_2',\n",
       " 'Trend_2',\n",
       " 'Close_Ratio_5',\n",
       " 'Trend_5',\n",
       " 'Close_Ratio_60',\n",
       " 'Trend_60',\n",
       " 'Close_Ratio_250',\n",
       " 'Trend_250']"
      ]
     },
     "execution_count": 163,
     "metadata": {},
     "output_type": "execute_result"
    }
   ],
   "source": [
    "new_predictors"
   ]
  },
  {
   "cell_type": "code",
   "execution_count": 164,
   "metadata": {},
   "outputs": [
    {
     "name": "stdout",
     "output_type": "stream",
     "text": [
      "                  Open        High         Low       Close     Volume  \\\n",
      "Date                                                                    \n",
      "2009-08-20  108.000000  110.000000   98.300003  100.099998  164328256   \n",
      "2009-08-21   99.900002  103.900002   98.000000  103.150002   33717840   \n",
      "2009-08-24  103.900002  104.400002  101.550003  103.099998   13665282   \n",
      "2009-08-25  102.500000  103.150002  101.000000  102.750000   11720267   \n",
      "2009-08-26  103.000000  107.500000  102.849998  105.099998   17158838   \n",
      "\n",
      "              Tomorrow  Target  Close_Ratio_2  Trend_2  Close_Ratio_5  \\\n",
      "Date                                                                    \n",
      "2009-08-20  103.150002       1            NaN      NaN            NaN   \n",
      "2009-08-21  103.099998       0       1.015006      NaN            NaN   \n",
      "2009-08-24  102.750000       0       0.999758      1.0            NaN   \n",
      "2009-08-25  105.099998       1       0.998300      0.0            NaN   \n",
      "2009-08-26  104.750000       0       1.011306      1.0       1.021976   \n",
      "\n",
      "            Trend_5  Close_Ratio_60  Trend_60  Close_Ratio_250  Trend_250  \n",
      "Date                                                                       \n",
      "2009-08-20      NaN             NaN       NaN              NaN        NaN  \n",
      "2009-08-21      NaN             NaN       NaN              NaN        NaN  \n",
      "2009-08-24      NaN             NaN       NaN              NaN        NaN  \n",
      "2009-08-25      NaN             NaN       NaN              NaN        NaN  \n",
      "2009-08-26      NaN             NaN       NaN              NaN        NaN  \n",
      "(3227, 15)\n"
     ]
    }
   ],
   "source": [
    "print(data.head())\n",
    "print(data.shape)\n"
   ]
  },
  {
   "cell_type": "code",
   "execution_count": 165,
   "metadata": {},
   "outputs": [],
   "source": [
    "#Dropping all the rows with nan values\n",
    "data = data.dropna(subset=data.columns[data.columns != \"Tomorrow\"])"
   ]
  },
  {
   "cell_type": "code",
   "execution_count": 166,
   "metadata": {},
   "outputs": [
    {
     "data": {
      "text/html": [
       "<div>\n",
       "<style scoped>\n",
       "    .dataframe tbody tr th:only-of-type {\n",
       "        vertical-align: middle;\n",
       "    }\n",
       "\n",
       "    .dataframe tbody tr th {\n",
       "        vertical-align: top;\n",
       "    }\n",
       "\n",
       "    .dataframe thead th {\n",
       "        text-align: right;\n",
       "    }\n",
       "</style>\n",
       "<table border=\"1\" class=\"dataframe\">\n",
       "  <thead>\n",
       "    <tr style=\"text-align: right;\">\n",
       "      <th></th>\n",
       "      <th>Open</th>\n",
       "      <th>High</th>\n",
       "      <th>Low</th>\n",
       "      <th>Close</th>\n",
       "      <th>Volume</th>\n",
       "      <th>Tomorrow</th>\n",
       "      <th>Target</th>\n",
       "      <th>Close_Ratio_2</th>\n",
       "      <th>Trend_2</th>\n",
       "      <th>Close_Ratio_5</th>\n",
       "      <th>Trend_5</th>\n",
       "      <th>Close_Ratio_60</th>\n",
       "      <th>Trend_60</th>\n",
       "      <th>Close_Ratio_250</th>\n",
       "      <th>Trend_250</th>\n",
       "    </tr>\n",
       "    <tr>\n",
       "      <th>Date</th>\n",
       "      <th></th>\n",
       "      <th></th>\n",
       "      <th></th>\n",
       "      <th></th>\n",
       "      <th></th>\n",
       "      <th></th>\n",
       "      <th></th>\n",
       "      <th></th>\n",
       "      <th></th>\n",
       "      <th></th>\n",
       "      <th></th>\n",
       "      <th></th>\n",
       "      <th></th>\n",
       "      <th></th>\n",
       "      <th></th>\n",
       "    </tr>\n",
       "  </thead>\n",
       "  <tbody>\n",
       "    <tr>\n",
       "      <th>2010-08-25</th>\n",
       "      <td>140.300003</td>\n",
       "      <td>140.699997</td>\n",
       "      <td>136.000000</td>\n",
       "      <td>137.149994</td>\n",
       "      <td>1311215</td>\n",
       "      <td>137.050003</td>\n",
       "      <td>0</td>\n",
       "      <td>0.992223</td>\n",
       "      <td>0.0</td>\n",
       "      <td>0.984778</td>\n",
       "      <td>2.0</td>\n",
       "      <td>1.070300</td>\n",
       "      <td>30.0</td>\n",
       "      <td>1.234747</td>\n",
       "      <td>128.0</td>\n",
       "    </tr>\n",
       "    <tr>\n",
       "      <th>2010-08-26</th>\n",
       "      <td>138.350006</td>\n",
       "      <td>139.250000</td>\n",
       "      <td>136.500000</td>\n",
       "      <td>137.050003</td>\n",
       "      <td>1493848</td>\n",
       "      <td>135.500000</td>\n",
       "      <td>0</td>\n",
       "      <td>0.999635</td>\n",
       "      <td>0.0</td>\n",
       "      <td>0.988389</td>\n",
       "      <td>1.0</td>\n",
       "      <td>1.067098</td>\n",
       "      <td>29.0</td>\n",
       "      <td>1.232342</td>\n",
       "      <td>127.0</td>\n",
       "    </tr>\n",
       "    <tr>\n",
       "      <th>2010-08-27</th>\n",
       "      <td>137.100006</td>\n",
       "      <td>138.550003</td>\n",
       "      <td>134.800003</td>\n",
       "      <td>135.500000</td>\n",
       "      <td>1366306</td>\n",
       "      <td>136.050003</td>\n",
       "      <td>1</td>\n",
       "      <td>0.994313</td>\n",
       "      <td>0.0</td>\n",
       "      <td>0.983381</td>\n",
       "      <td>1.0</td>\n",
       "      <td>1.052693</td>\n",
       "      <td>29.0</td>\n",
       "      <td>1.216986</td>\n",
       "      <td>127.0</td>\n",
       "    </tr>\n",
       "    <tr>\n",
       "      <th>2010-08-30</th>\n",
       "      <td>137.399994</td>\n",
       "      <td>137.600006</td>\n",
       "      <td>134.699997</td>\n",
       "      <td>136.050003</td>\n",
       "      <td>1130702</td>\n",
       "      <td>135.949997</td>\n",
       "      <td>0</td>\n",
       "      <td>1.002025</td>\n",
       "      <td>1.0</td>\n",
       "      <td>0.992993</td>\n",
       "      <td>1.0</td>\n",
       "      <td>1.054351</td>\n",
       "      <td>30.0</td>\n",
       "      <td>1.220466</td>\n",
       "      <td>128.0</td>\n",
       "    </tr>\n",
       "    <tr>\n",
       "      <th>2010-08-31</th>\n",
       "      <td>136.000000</td>\n",
       "      <td>136.699997</td>\n",
       "      <td>133.899994</td>\n",
       "      <td>135.949997</td>\n",
       "      <td>694884</td>\n",
       "      <td>138.199997</td>\n",
       "      <td>1</td>\n",
       "      <td>0.999632</td>\n",
       "      <td>1.0</td>\n",
       "      <td>0.997139</td>\n",
       "      <td>1.0</td>\n",
       "      <td>1.050808</td>\n",
       "      <td>30.0</td>\n",
       "      <td>1.218221</td>\n",
       "      <td>127.0</td>\n",
       "    </tr>\n",
       "    <tr>\n",
       "      <th>...</th>\n",
       "      <td>...</td>\n",
       "      <td>...</td>\n",
       "      <td>...</td>\n",
       "      <td>...</td>\n",
       "      <td>...</td>\n",
       "      <td>...</td>\n",
       "      <td>...</td>\n",
       "      <td>...</td>\n",
       "      <td>...</td>\n",
       "      <td>...</td>\n",
       "      <td>...</td>\n",
       "      <td>...</td>\n",
       "      <td>...</td>\n",
       "      <td>...</td>\n",
       "      <td>...</td>\n",
       "    </tr>\n",
       "    <tr>\n",
       "      <th>2022-09-13</th>\n",
       "      <td>400.500000</td>\n",
       "      <td>400.500000</td>\n",
       "      <td>392.500000</td>\n",
       "      <td>393.600006</td>\n",
       "      <td>2257842</td>\n",
       "      <td>384.549988</td>\n",
       "      <td>0</td>\n",
       "      <td>0.994944</td>\n",
       "      <td>1.0</td>\n",
       "      <td>0.985774</td>\n",
       "      <td>1.0</td>\n",
       "      <td>1.203253</td>\n",
       "      <td>35.0</td>\n",
       "      <td>2.005462</td>\n",
       "      <td>131.0</td>\n",
       "    </tr>\n",
       "    <tr>\n",
       "      <th>2022-09-14</th>\n",
       "      <td>385.750000</td>\n",
       "      <td>397.000000</td>\n",
       "      <td>383.299988</td>\n",
       "      <td>384.549988</td>\n",
       "      <td>3469526</td>\n",
       "      <td>399.200012</td>\n",
       "      <td>1</td>\n",
       "      <td>0.988370</td>\n",
       "      <td>0.0</td>\n",
       "      <td>0.973717</td>\n",
       "      <td>1.0</td>\n",
       "      <td>1.168250</td>\n",
       "      <td>34.0</td>\n",
       "      <td>1.948075</td>\n",
       "      <td>131.0</td>\n",
       "    </tr>\n",
       "    <tr>\n",
       "      <th>2022-09-15</th>\n",
       "      <td>389.500000</td>\n",
       "      <td>399.950012</td>\n",
       "      <td>383.000000</td>\n",
       "      <td>399.200012</td>\n",
       "      <td>2988397</td>\n",
       "      <td>387.750000</td>\n",
       "      <td>0</td>\n",
       "      <td>1.018692</td>\n",
       "      <td>1.0</td>\n",
       "      <td>1.012196</td>\n",
       "      <td>2.0</td>\n",
       "      <td>1.203558</td>\n",
       "      <td>35.0</td>\n",
       "      <td>2.010071</td>\n",
       "      <td>132.0</td>\n",
       "    </tr>\n",
       "    <tr>\n",
       "      <th>2022-09-16</th>\n",
       "      <td>399.000000</td>\n",
       "      <td>399.899994</td>\n",
       "      <td>383.000000</td>\n",
       "      <td>387.750000</td>\n",
       "      <td>2709516</td>\n",
       "      <td>392.899994</td>\n",
       "      <td>1</td>\n",
       "      <td>0.985450</td>\n",
       "      <td>1.0</td>\n",
       "      <td>0.987797</td>\n",
       "      <td>2.0</td>\n",
       "      <td>1.161235</td>\n",
       "      <td>34.0</td>\n",
       "      <td>1.941147</td>\n",
       "      <td>131.0</td>\n",
       "    </tr>\n",
       "    <tr>\n",
       "      <th>2022-09-19</th>\n",
       "      <td>390.000000</td>\n",
       "      <td>394.750000</td>\n",
       "      <td>384.000000</td>\n",
       "      <td>392.899994</td>\n",
       "      <td>460898</td>\n",
       "      <td>NaN</td>\n",
       "      <td>0</td>\n",
       "      <td>1.006597</td>\n",
       "      <td>1.0</td>\n",
       "      <td>1.003320</td>\n",
       "      <td>2.0</td>\n",
       "      <td>1.168169</td>\n",
       "      <td>35.0</td>\n",
       "      <td>1.955403</td>\n",
       "      <td>132.0</td>\n",
       "    </tr>\n",
       "  </tbody>\n",
       "</table>\n",
       "<p>2977 rows × 15 columns</p>\n",
       "</div>"
      ],
      "text/plain": [
       "                  Open        High         Low       Close   Volume  \\\n",
       "Date                                                                  \n",
       "2010-08-25  140.300003  140.699997  136.000000  137.149994  1311215   \n",
       "2010-08-26  138.350006  139.250000  136.500000  137.050003  1493848   \n",
       "2010-08-27  137.100006  138.550003  134.800003  135.500000  1366306   \n",
       "2010-08-30  137.399994  137.600006  134.699997  136.050003  1130702   \n",
       "2010-08-31  136.000000  136.699997  133.899994  135.949997   694884   \n",
       "...                ...         ...         ...         ...      ...   \n",
       "2022-09-13  400.500000  400.500000  392.500000  393.600006  2257842   \n",
       "2022-09-14  385.750000  397.000000  383.299988  384.549988  3469526   \n",
       "2022-09-15  389.500000  399.950012  383.000000  399.200012  2988397   \n",
       "2022-09-16  399.000000  399.899994  383.000000  387.750000  2709516   \n",
       "2022-09-19  390.000000  394.750000  384.000000  392.899994   460898   \n",
       "\n",
       "              Tomorrow  Target  Close_Ratio_2  Trend_2  Close_Ratio_5  \\\n",
       "Date                                                                    \n",
       "2010-08-25  137.050003       0       0.992223      0.0       0.984778   \n",
       "2010-08-26  135.500000       0       0.999635      0.0       0.988389   \n",
       "2010-08-27  136.050003       1       0.994313      0.0       0.983381   \n",
       "2010-08-30  135.949997       0       1.002025      1.0       0.992993   \n",
       "2010-08-31  138.199997       1       0.999632      1.0       0.997139   \n",
       "...                ...     ...            ...      ...            ...   \n",
       "2022-09-13  384.549988       0       0.994944      1.0       0.985774   \n",
       "2022-09-14  399.200012       1       0.988370      0.0       0.973717   \n",
       "2022-09-15  387.750000       0       1.018692      1.0       1.012196   \n",
       "2022-09-16  392.899994       1       0.985450      1.0       0.987797   \n",
       "2022-09-19         NaN       0       1.006597      1.0       1.003320   \n",
       "\n",
       "            Trend_5  Close_Ratio_60  Trend_60  Close_Ratio_250  Trend_250  \n",
       "Date                                                                       \n",
       "2010-08-25      2.0        1.070300      30.0         1.234747      128.0  \n",
       "2010-08-26      1.0        1.067098      29.0         1.232342      127.0  \n",
       "2010-08-27      1.0        1.052693      29.0         1.216986      127.0  \n",
       "2010-08-30      1.0        1.054351      30.0         1.220466      128.0  \n",
       "2010-08-31      1.0        1.050808      30.0         1.218221      127.0  \n",
       "...             ...             ...       ...              ...        ...  \n",
       "2022-09-13      1.0        1.203253      35.0         2.005462      131.0  \n",
       "2022-09-14      1.0        1.168250      34.0         1.948075      131.0  \n",
       "2022-09-15      2.0        1.203558      35.0         2.010071      132.0  \n",
       "2022-09-16      2.0        1.161235      34.0         1.941147      131.0  \n",
       "2022-09-19      2.0        1.168169      35.0         1.955403      132.0  \n",
       "\n",
       "[2977 rows x 15 columns]"
      ]
     },
     "execution_count": 166,
     "metadata": {},
     "output_type": "execute_result"
    }
   ],
   "source": [
    "data"
   ]
  },
  {
   "cell_type": "code",
   "execution_count": 167,
   "metadata": {},
   "outputs": [],
   "source": [
    "\n",
    "model_2 = RandomForestClassifier(n_estimators=200, min_samples_split=50, random_state=1)"
   ]
  },
  {
   "cell_type": "code",
   "execution_count": 168,
   "metadata": {},
   "outputs": [],
   "source": [
    "predictions_2 = backtest(data, model_2, new_predictors)"
   ]
  },
  {
   "cell_type": "code",
   "execution_count": 169,
   "metadata": {},
   "outputs": [
    {
     "data": {
      "text/plain": [
       "0.5138339920948617"
      ]
     },
     "execution_count": 169,
     "metadata": {},
     "output_type": "execute_result"
    }
   ],
   "source": [
    "precision_score(predictions_2[\"Target\"], predictions_2[\"Predictions\"])"
   ]
  },
  {
   "cell_type": "code",
   "execution_count": 170,
   "metadata": {},
   "outputs": [
    {
     "data": {
      "text/plain": [
       "0    1318\n",
       "1     759\n",
       "Name: Predictions, dtype: int64"
      ]
     },
     "execution_count": 170,
     "metadata": {},
     "output_type": "execute_result"
    }
   ],
   "source": [
    "predictions_2[\"Predictions\"].value_counts()"
   ]
  },
  {
   "cell_type": "code",
   "execution_count": 171,
   "metadata": {},
   "outputs": [
    {
     "data": {
      "text/plain": [
       "0    0.515256\n",
       "1    0.484744\n",
       "Name: Target, dtype: float64"
      ]
     },
     "execution_count": 171,
     "metadata": {},
     "output_type": "execute_result"
    }
   ],
   "source": [
    "predictions[\"Target\"].value_counts() / predictions.shape[0]"
   ]
  },
  {
   "cell_type": "code",
   "execution_count": 172,
   "metadata": {},
   "outputs": [],
   "source": [
    "from sklearn.metrics import confusion_matrix\n",
    "from sklearn.metrics import ConfusionMatrixDisplay"
   ]
  },
  {
   "cell_type": "code",
   "execution_count": 173,
   "metadata": {},
   "outputs": [
    {
     "data": {
      "image/png": "[encoded data removed]",
      "text/plain": [
       "<Figure size 432x288 with 2 Axes>"
      ]
     },
     "metadata": {
      "needs_background": "light"
     },
     "output_type": "display_data"
    }
   ],
   "source": [
    "import matplotlib.pyplot as plt\n",
    "conf_matrix=confusion_matrix(predictions_2[\"Target\"], predictions_2[\"Predictions\"])\n",
    "cm_display = ConfusionMatrixDisplay(confusion_matrix = conf_matrix, display_labels = [False, True])\n",
    "\n",
    "cm_display.plot()\n",
    "plt.show()"
   ]
  },
  {
   "cell_type": "code",
   "execution_count": 174,
   "metadata": {},
   "outputs": [
    {
     "data": {
      "text/plain": [
       "array([[702, 369],\n",
       "       [616, 390]], dtype=int64)"
      ]
     },
     "execution_count": 174,
     "metadata": {},
     "output_type": "execute_result"
    }
   ],
   "source": [
    "conf_matrix"
   ]
  },
  {
   "cell_type": "markdown",
   "metadata": {},
   "source": [
    "Here we are actually labelling False as True (0 as 1) which is reducing the accuracy of our model. Changing our labelling stratergy might help to improve the accuracy"
   ]
  },
  {
   "cell_type": "markdown",
   "metadata": {},
   "source": [
    "**It can be seen that the accuracy of the model has increased, Hence this model is better**"
   ]
  },
  {
   "cell_type": "code",
   "execution_count": 175,
   "metadata": {},
   "outputs": [],
   "source": [
    "#new predict function for higher accuracy\n",
    "def predict_prob(train, test, predictors, model):\n",
    "    model.fit(train[predictors], train[\"Target\"])\n",
    "    preds = model.predict_proba(test[predictors])[:,1]\n",
    "    preds[preds >=.6] = 1\n",
    "    preds[preds <.6] = 0\n",
    "    preds = pd.Series(preds, index=test.index, name=\"Predictions\")\n",
    "    combined = pd.concat([test[\"Target\"], preds], axis=1)\n",
    "    return combined"
   ]
  },
  {
   "cell_type": "markdown",
   "metadata": {},
   "source": [
    "The above predict function will help us to avoid labeling a false as True"
   ]
  },
  {
   "cell_type": "code",
   "execution_count": 180,
   "metadata": {},
   "outputs": [],
   "source": [
    "def backtest_prob(data, model, predictors, start=900, step=300):\n",
    "    all_predictions = []\n",
    "\n",
    "    for i in range(start, data.shape[0], step):\n",
    "        train = data.iloc[0:i].copy()\n",
    "        test = data.iloc[i:(i+step)].copy()\n",
    "        predictions = predict_prob(train, test, predictors, model)\n",
    "        all_predictions.append(predictions)\n",
    "    \n",
    "    return pd.concat(all_predictions)"
   ]
  },
  {
   "cell_type": "code",
   "execution_count": 181,
   "metadata": {},
   "outputs": [],
   "source": [
    "predictions_3=backtest_prob(data, model_2, new_predictors)"
   ]
  },
  {
   "cell_type": "code",
   "execution_count": 182,
   "metadata": {},
   "outputs": [
    {
     "data": {
      "text/plain": [
       "0.5677083333333334"
      ]
     },
     "execution_count": 182,
     "metadata": {},
     "output_type": "execute_result"
    }
   ],
   "source": [
    "precision_score(predictions_3[\"Target\"], predictions_3[\"Predictions\"])"
   ]
  },
  {
   "cell_type": "code",
   "execution_count": 183,
   "metadata": {},
   "outputs": [
    {
     "data": {
      "text/plain": [
       "array([[988,  83],\n",
       "       [897, 109]], dtype=int64)"
      ]
     },
     "execution_count": 183,
     "metadata": {},
     "output_type": "execute_result"
    }
   ],
   "source": [
    "confusion_matrix(predictions_3[\"Target\"], predictions_3[\"Predictions\"])"
   ]
  },
  {
   "cell_type": "markdown",
   "metadata": {},
   "source": [
    "After changing the labeling straterg, it can be seen that there is increase in the accuracy of our model, let use a more powerful model and see if can make things better"
   ]
  },
  {
   "cell_type": "code",
   "execution_count": 194,
   "metadata": {},
   "outputs": [],
   "source": [
    "from xgboost import XGBClassifier\n",
    "\n",
    "model_3 = XGBClassifier(random_state=1, learning_rate=.01, n_estimators=200)\n",
    "predictions_4 = backtest_prob(data, model_3,new_predictors)"
   ]
  },
  {
   "cell_type": "code",
   "execution_count": 195,
   "metadata": {},
   "outputs": [
    {
     "data": {
      "text/plain": [
       "0.5283842794759825"
      ]
     },
     "execution_count": 195,
     "metadata": {},
     "output_type": "execute_result"
    }
   ],
   "source": [
    "precision_score(predictions_4[\"Target\"], predictions_4[\"Predictions\"])"
   ]
  },
  {
   "cell_type": "code",
   "execution_count": 196,
   "metadata": {},
   "outputs": [
    {
     "data": {
      "text/plain": [
       "array([[963, 108],\n",
       "       [885, 121]], dtype=int64)"
      ]
     },
     "execution_count": 196,
     "metadata": {},
     "output_type": "execute_result"
    }
   ],
   "source": [
    "confusion_matrix(predictions_4[\"Target\"], predictions_4[\"Predictions\"])"
   ]
  },
  {
   "cell_type": "markdown",
   "metadata": {},
   "source": [
    "Our model 2 has given us the best results. Using this model with other fundamental factors might be profitable"
   ]
  },
  {
   "cell_type": "code",
   "execution_count": 197,
   "metadata": {},
   "outputs": [
    {
     "data": {
      "text/plain": [
       "['adani.pkl']"
      ]
     },
     "execution_count": 197,
     "metadata": {},
     "output_type": "execute_result"
    }
   ],
   "source": [
    "from joblib import Parallel, delayed\n",
    "import joblib\n",
    "\n",
    "# Save the model as a pickle in a file\n",
    "joblib.dump(model_2, 'adani.pkl')"
   ]
  },
  {
   "cell_type": "code",
   "execution_count": null,
   "metadata": {},
   "outputs": [],
   "source": []
  }
 ],
 "metadata": {
  "kernelspec": {
   "display_name": "Python 3",
   "language": "python",
   "name": "python3"
  },
  "language_info": {
   "codemirror_mode": {
    "name": "ipython",
    "version": 3
   },
   "file_extension": ".py",
   "mimetype": "text/x-python",
   "name": "python",
   "nbconvert_exporter": "python",
   "pygments_lexer": "ipython3",
   "version": "3.7.3"
  }
 },
 "nbformat": 4,
 "nbformat_minor": 4
}
